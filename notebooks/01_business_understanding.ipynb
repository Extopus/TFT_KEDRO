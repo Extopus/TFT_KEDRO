{
 "cells": [
  {
   "cell_type": "markdown",
   "id": "bb083d6f",
   "metadata": {},
   "source": [
    "1. Business Understanding\n",
    "Contexto del negocio\n",
    "\n",
    "Teamfight Tactics (TFT) es un videojuego estratégico basado en rondas, donde los jugadores compiten construyendo equipos de campeones y tomando decisiones que impactan directamente en el resultado final. En los niveles competitivos más altos —Challenger, Grandmaster y Platinum— las partidas son especialmente relevantes, ya que representan el rendimiento de los mejores jugadores y muestran patrones de juego avanzados.\n",
    "\n",
    "El interés de este análisis es comprender cómo ciertas variables influyen en el desempeño dentro de una partida y qué factores diferencian a los jugadores de distintos rangos competitivos."
   ]
  },
  {
   "cell_type": "markdown",
   "id": "dfe736c5",
   "metadata": {},
   "source": [
    "Problema de negocio\n",
    "\n",
    "Actualmente no está claro qué elementos del juego tienen un mayor impacto en los resultados de las partidas en los distintos rangos. Si bien se pueden intuir factores como la duración de la partida, el nivel alcanzado por el jugador, la composición de campeones y el ranking final, no existe un análisis comparativo basado en datos que confirme estas hipótesis.\n",
    "\n",
    "Esto dificulta:\n",
    "\n",
    "Diseñar estrategias de juego más efectivas para mejorar el rendimiento.\n",
    "\n",
    "Proporcionar insights a jugadores o entrenadores para progresar en el ranking.\n",
    "\n",
    "Ayudar a desarrolladores del juego a balancear mecánicas entre rangos."
   ]
  },
  {
   "cell_type": "markdown",
   "id": "ba3d4b35",
   "metadata": {},
   "source": [
    "Objetivos del negocio\n",
    "\n",
    "Identificar las variables clave que impactan en el desempeño de los jugadores en TFT en los rangos Challenger, Grandmaster y Platinum.\n",
    "\n",
    "Comparar patrones de juego entre rangos, evaluando diferencias en duración de partidas, niveles alcanzados y composiciones.\n",
    "\n",
    "Generar insights aplicables, como recomendaciones estratégicas o métricas útiles para evaluar el progreso competitivo."
   ]
  },
  {
   "cell_type": "markdown",
   "id": "450439de",
   "metadata": {},
   "source": [
    "Criterios de éxito\n",
    "\n",
    "Lograr un análisis que destaque al menos 3 variables críticas que afecten el desempeño del jugador.\n",
    "\n",
    "Mostrar diferencias claras entre los tres rangos de análisis.\n",
    "\n",
    "Presentar resultados que puedan ser utilizados como base para modelos predictivos o como guía para estrategias competitivas."
   ]
  },
  {
   "cell_type": "markdown",
   "id": "22e15e4c",
   "metadata": {},
   "source": [
    "Restricciones y supuestos\n",
    "\n",
    "Los datos analizados provienen exclusivamente de partidas en rangos Challenger, Grandmaster y Platinum, por lo que los resultados no son generalizables a todos los jugadores de TFT.\n",
    "\n",
    "Se asume que los datasets (challenger_raw.csv, grandmaster_raw.csv, platinum_raw.csv) son representativos de cada nivel competitivo.\n",
    "\n",
    "El análisis se limita a las variables disponibles en los datasets."
   ]
  }
 ],
 "metadata": {
  "kernelspec": {
   "display_name": "Kedro (tft_kedro)",
   "language": "python",
   "name": "kedro_tft_kedro"
  },
  "language_info": {
   "codemirror_mode": {
    "name": "ipython",
    "version": 3
   },
   "file_extension": ".py",
   "mimetype": "text/x-python",
   "name": "python",
   "nbconvert_exporter": "python",
   "pygments_lexer": "ipython3",
   "version": "3.11.9"
  }
 },
 "nbformat": 4,
 "nbformat_minor": 5
}
