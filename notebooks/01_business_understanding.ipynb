{
 "cells": [
  {
   "cell_type": "markdown",
   "id": "bb083d6f",
   "metadata": {},
   "source": [
    "1. Business Understanding\n",
    "Contexto del negocio\n",
    "\n",
    "Teamfight Tactics (TFT) es un videojuego estratégico basado en rondas, donde los jugadores compiten construyendo equipos de campeones y tomando decisiones que impactan directamente en el resultado final. En los niveles competitivos más altos —Challenger, Grandmaster y Platinum— las partidas son especialmente relevantes, ya que representan el rendimiento de los mejores jugadores y muestran patrones de juego avanzados.\n",
    "\n",
    "El interés de este análisis es comprender cómo ciertas variables influyen en el desempeño dentro de una partida y qué factores diferencian a los jugadores de distintos rangos competitivos."
   ]
  },
  {
   "cell_type": "markdown",
   "id": "dfe736c5",
   "metadata": {},
   "source": [
    "Problema de negocio\n",
    "\n",
    "Actualmente no está claro qué elementos del juego tienen un mayor impacto en los resultados de las partidas en los distintos rangos. Si bien se pueden intuir factores como la duración de la partida, el nivel alcanzado por el jugador, la composición de campeones y el ranking final, no existe un análisis comparativo basado en datos que confirme estas hipótesis.\n",
    "\n",
    "Esto dificulta:\n",
    "\n",
    "Diseñar estrategias de juego más efectivas para mejorar el rendimiento.\n",
    "\n",
    "Proporcionar insights a jugadores o entrenadores para progresar en el ranking.\n",
    "\n",
    "Ayudar a desarrolladores del juego a balancear mecánicas entre rangos."
   ]
  },
  {
   "cell_type": "markdown",
   "id": "ba3d4b35",
   "metadata": {},
   "source": [
    "Objetivos del negocio\n",
    "\n",
    "Identificar las variables clave que impactan en el desempeño de los jugadores en TFT en los rangos Challenger, Grandmaster y Platinum.\n",
    "\n",
    "Comparar patrones de juego entre rangos, evaluando diferencias en duración de partidas, niveles alcanzados y composiciones.\n",
    "\n",
    "Generar insights aplicables, como recomendaciones estratégicas o métricas útiles para evaluar el progreso competitivo."
   ]
  },
  {
   "cell_type": "markdown",
   "id": "450439de",
   "metadata": {},
   "source": [
    "Criterios de éxito\n",
    "\n",
    "Lograr un análisis que destaque al menos 3 variables críticas que afecten el desempeño del jugador.\n",
    "\n",
    "Mostrar diferencias claras entre los tres rangos de análisis.\n",
    "\n",
    "Presentar resultados que puedan ser utilizados como base para modelos predictivos o como guía para estrategias competitivas."
   ]
  },
  {
   "cell_type": "markdown",
   "id": "22e15e4c",
   "metadata": {},
   "source": [
    "Restricciones y supuestos\n",
    "\n",
    "Los datos analizados provienen exclusivamente de partidas en rangos Challenger, Grandmaster y Platinum, por lo que los resultados no son generalizables a todos los jugadores de TFT.\n",
    "\n",
    "Se asume que los datasets (challenger_raw.csv, grandmaster_raw.csv, platinum_raw.csv) son representativos de cada nivel competitivo.\n",
    "\n",
    "El análisis se limita a las variables disponibles en los datasets."
   ]
  },
  {
   "cell_type": "markdown",
   "id": "48b3037a",
   "metadata": {},
   "source": [
    "## Análisis Exploratorio Inicial (EDA)\n",
    "\n",
    "Para cumplir con los objetivos del negocio, realizaremos un análisis exploratorio inicial de los datos para identificar las variables clave que impactan en el desempeño de los jugadores en TFT.\n"
   ]
  },
  {
   "cell_type": "code",
   "execution_count": 1,
   "id": "15155ed2",
   "metadata": {},
   "outputs": [
    {
     "name": "stdout",
     "output_type": "stream",
     "text": [
      "✅ Librerías importadas correctamente\n"
     ]
    }
   ],
   "source": [
    "# Importar librerías necesarias\n",
    "import pandas as pd\n",
    "import numpy as np\n",
    "import matplotlib.pyplot as plt\n",
    "import seaborn as sns\n",
    "import plotly.express as px\n",
    "import plotly.graph_objects as go\n",
    "from plotly.subplots import make_subplots\n",
    "import warnings\n",
    "warnings.filterwarnings('ignore')\n",
    "\n",
    "# Configurar estilo de visualizaciones\n",
    "plt.style.use('seaborn-v0_8')\n",
    "sns.set_palette(\"husl\")\n",
    "print(\"✅ Librerías importadas correctamente\")\n"
   ]
  },
  {
   "cell_type": "markdown",
   "id": "fb36ebf2",
   "metadata": {},
   "source": [
    "### 1. Carga de Datos\n",
    "\n",
    "Cargaremos los tres datasets de TFT para realizar el análisis comparativo entre rangos competitivos.\n"
   ]
  },
  {
   "cell_type": "code",
   "execution_count": 2,
   "id": "a7eeb6ce",
   "metadata": {},
   "outputs": [
    {
     "name": "stdout",
     "output_type": "stream",
     "text": [
      "✅ Datasets cargados exitosamente:\n",
      "  • Challenger: 79,999 partidas\n",
      "  • Grandmaster: 80,000 partidas\n",
      "  • Platinum: 80,000 partidas\n",
      "  • Total: 239,999 partidas\n"
     ]
    }
   ],
   "source": [
    "# Cargar datasets de TFT\n",
    "try:\n",
    "    df_challenger = pd.read_csv('../data/01_raw/TFT_Challenger_MatchData.csv')\n",
    "    df_grandmaster = pd.read_csv('../data/01_raw/TFT_Grandmaster_MatchData.csv')\n",
    "    df_platinum = pd.read_csv('../data/01_raw/TFT_Platinum_MatchData.csv')\n",
    "    \n",
    "    # Agregar columna de rango para identificación\n",
    "    df_challenger['rank'] = 'Challenger'\n",
    "    df_grandmaster['rank'] = 'Grandmaster'\n",
    "    df_platinum['rank'] = 'Platinum'\n",
    "    \n",
    "    print(\"✅ Datasets cargados exitosamente:\")\n",
    "    print(f\"  • Challenger: {df_challenger.shape[0]:,} partidas\")\n",
    "    print(f\"  • Grandmaster: {df_grandmaster.shape[0]:,} partidas\")\n",
    "    print(f\"  • Platinum: {df_platinum.shape[0]:,} partidas\")\n",
    "    print(f\"  • Total: {df_challenger.shape[0] + df_grandmaster.shape[0] + df_platinum.shape[0]:,} partidas\")\n",
    "    \n",
    "except Exception as e:\n",
    "    print(f\"❌ Error al cargar datos: {e}\")\n"
   ]
  },
  {
   "cell_type": "markdown",
   "id": "126a365f",
   "metadata": {},
   "source": [
    "### 2. Exploración Inicial de Datos\n",
    "\n",
    "Analizaremos la estructura básica de los datos para entender qué variables tenemos disponibles para el análisis.\n"
   ]
  },
  {
   "cell_type": "code",
   "execution_count": 3,
   "id": "c5271d9d",
   "metadata": {},
   "outputs": [
    {
     "name": "stdout",
     "output_type": "stream",
     "text": [
      "🔍 ESTRUCTURA DE DATOS - CHALLENGER\n",
      "==================================================\n",
      "Dimensiones: (79999, 9)\n",
      "Columnas: ['gameId', 'gameDuration', 'level', 'lastRound', 'Ranked', 'ingameDuration', 'combination', 'champion', 'rank']\n",
      "\n",
      "Tipos de datos:\n",
      "gameId             object\n",
      "gameDuration      float64\n",
      "level               int64\n",
      "lastRound           int64\n",
      "Ranked              int64\n",
      "ingameDuration    float64\n",
      "combination        object\n",
      "champion           object\n",
      "rank               object\n",
      "dtype: object\n",
      "\n",
      "Primeras 3 filas:\n",
      "          gameId  gameDuration  level  lastRound  Ranked  ingameDuration  \\\n",
      "0  KR_4247538593   2142.470703      8         35       1     2134.272217   \n",
      "1  KR_4247538593   2142.470703      9         35       2     2134.272217   \n",
      "2  KR_4247538593   2142.470703      8         34       3     2073.459229   \n",
      "\n",
      "                                         combination  \\\n",
      "0  {'DarkStar': 2, 'Protector': 4, 'Rebel': 1, 'S...   \n",
      "1  {'Blaster': 2, 'Mercenary': 1, 'Rebel': 6, 'Se...   \n",
      "2  {'Cybernetic': 1, 'DarkStar': 3, 'Demolitionis...   \n",
      "\n",
      "                                            champion        rank  \n",
      "0  {'JarvanIV': {'items': [27], 'star': 3}, 'Sona...  Challenger  \n",
      "1  {'Malphite': {'items': [7], 'star': 2}, 'Yasuo...  Challenger  \n",
      "2  {'KaiSa': {'items': [99, 2, 23], 'star': 2}, '...  Challenger  \n"
     ]
    }
   ],
   "source": [
    "# Exploración inicial de la estructura de datos\n",
    "print(\"🔍 ESTRUCTURA DE DATOS - CHALLENGER\")\n",
    "print(\"=\" * 50)\n",
    "print(f\"Dimensiones: {df_challenger.shape}\")\n",
    "print(f\"Columnas: {list(df_challenger.columns)}\")\n",
    "print(\"\\nTipos de datos:\")\n",
    "print(df_challenger.dtypes)\n",
    "print(\"\\nPrimeras 3 filas:\")\n",
    "print(df_challenger.head(3))\n"
   ]
  },
  {
   "cell_type": "code",
   "execution_count": 4,
   "id": "240cfaa0",
   "metadata": {},
   "outputs": [
    {
     "name": "stdout",
     "output_type": "stream",
     "text": [
      "📊 ESTADÍSTICAS DESCRIPTIVAS - TODOS LOS RANGOS\n",
      "============================================================\n",
      "Resumen por rango:\n",
      "\n",
      "Challenger:\n",
      "  • Partidas: 79,999\n",
      "  • Variables: 9\n",
      "  • Valores faltantes: 0\n",
      "\n",
      "Grandmaster:\n",
      "  • Partidas: 80,000\n",
      "  • Variables: 9\n",
      "  • Valores faltantes: 0\n",
      "\n",
      "Platinum:\n",
      "  • Partidas: 80,000\n",
      "  • Variables: 9\n",
      "  • Valores faltantes: 0\n",
      "\n",
      "📈 DATASET COMBINADO:\n",
      "  • Total partidas: 239,999\n",
      "  • Variables: 9\n",
      "  • Valores faltantes: 0\n"
     ]
    }
   ],
   "source": [
    "# Estadísticas descriptivas básicas\n",
    "print(\"📊 ESTADÍSTICAS DESCRIPTIVAS - TODOS LOS RANGOS\")\n",
    "print(\"=\" * 60)\n",
    "\n",
    "# Combinar datos para análisis comparativo\n",
    "df_combined = pd.concat([df_challenger, df_grandmaster, df_platinum], ignore_index=True)\n",
    "\n",
    "# Estadísticas por rango\n",
    "print(\"Resumen por rango:\")\n",
    "for rank in ['Challenger', 'Grandmaster', 'Platinum']:\n",
    "    df_rank = df_combined[df_combined['rank'] == rank]\n",
    "    print(f\"\\n{rank}:\")\n",
    "    print(f\"  • Partidas: {len(df_rank):,}\")\n",
    "    print(f\"  • Variables: {df_rank.shape[1]}\")\n",
    "    print(f\"  • Valores faltantes: {df_rank.isnull().sum().sum()}\")\n",
    "    \n",
    "print(f\"\\n📈 DATASET COMBINADO:\")\n",
    "print(f\"  • Total partidas: {len(df_combined):,}\")\n",
    "print(f\"  • Variables: {df_combined.shape[1]}\")\n",
    "print(f\"  • Valores faltantes: {df_combined.isnull().sum().sum()}\")\n"
   ]
  },
  {
   "cell_type": "markdown",
   "id": "d957212d",
   "metadata": {},
   "source": [
    "### 3. Análisis de Variables Clave\n",
    "\n",
    "Identificaremos las variables más relevantes para el análisis de rendimiento según los objetivos del negocio.\n"
   ]
  },
  {
   "cell_type": "code",
   "execution_count": 5,
   "id": "371a0fb2",
   "metadata": {},
   "outputs": [
    {
     "name": "stdout",
     "output_type": "stream",
     "text": [
      "🎯 VARIABLES CLAVE IDENTIFICADAS\n",
      "========================================\n",
      "Variables numéricas disponibles: 5\n",
      "Columnas numéricas: ['gameDuration', 'level', 'lastRound', 'Ranked', 'ingameDuration']\n",
      "\n",
      "Variables categóricas disponibles: 4\n",
      "Columnas categóricas: ['gameId', 'combination', 'champion', 'rank']\n",
      "\n",
      "🚀 VARIABLES POTENCIALES DE RENDIMIENTO:\n",
      "Variables que podrían estar relacionadas con el rendimiento:\n",
      "  • gameDuration\n",
      "  • level\n",
      "  • lastRound\n",
      "  • Ranked\n",
      "  • ingameDuration\n",
      "  • rank\n",
      "\n",
      "Total variables de rendimiento identificadas: 6\n"
     ]
    }
   ],
   "source": [
    "# Identificar variables clave para análisis\n",
    "print(\"🎯 VARIABLES CLAVE IDENTIFICADAS\")\n",
    "print(\"=\" * 40)\n",
    "\n",
    "# Variables numéricas potencialmente relevantes\n",
    "numeric_cols = df_combined.select_dtypes(include=[np.number]).columns.tolist()\n",
    "print(f\"Variables numéricas disponibles: {len(numeric_cols)}\")\n",
    "print(\"Columnas numéricas:\", numeric_cols)\n",
    "\n",
    "# Variables categóricas\n",
    "categorical_cols = df_combined.select_dtypes(include=['object']).columns.tolist()\n",
    "print(f\"\\nVariables categóricas disponibles: {len(categorical_cols)}\")\n",
    "print(\"Columnas categóricas:\", categorical_cols)\n",
    "\n",
    "# Buscar variables relacionadas con rendimiento\n",
    "performance_keywords = ['placement', 'rank', 'level', 'gold', 'damage', 'elimination', 'duration', 'round']\n",
    "potential_performance_vars = []\n",
    "\n",
    "for col in df_combined.columns:\n",
    "    if any(keyword in col.lower() for keyword in performance_keywords):\n",
    "        potential_performance_vars.append(col)\n",
    "\n",
    "print(f\"\\n🚀 VARIABLES POTENCIALES DE RENDIMIENTO:\")\n",
    "print(\"Variables que podrían estar relacionadas con el rendimiento:\")\n",
    "for var in potential_performance_vars:\n",
    "    print(f\"  • {var}\")\n",
    "\n",
    "print(f\"\\nTotal variables de rendimiento identificadas: {len(potential_performance_vars)}\")\n"
   ]
  },
  {
   "cell_type": "markdown",
   "id": "db8a89bb",
   "metadata": {},
   "source": [
    "### 4. Visualizaciones Iniciales\n",
    "\n",
    "Crearemos visualizaciones básicas para identificar patrones iniciales entre los rangos competitivos.\n"
   ]
  },
  {
   "cell_type": "code",
   "execution_count": 6,
   "id": "1c99b40a",
   "metadata": {},
   "outputs": [
    {
     "data": {
      "image/png": "[encoded data removed]",
      "text/plain": [
       "<Figure size 1500x600 with 2 Axes>"
      ]
     },
     "metadata": {},
     "output_type": "display_data"
    },
    {
     "name": "stdout",
     "output_type": "stream",
     "text": [
      "📊 Distribución de datos por rango:\n",
      "  • Challenger: 79,999 partidas (33.3%)\n",
      "  • Grandmaster: 80,000 partidas (33.3%)\n",
      "  • Platinum: 80,000 partidas (33.3%)\n"
     ]
    }
   ],
   "source": [
    "# Visualización 1: Distribución de partidas por rango\n",
    "fig, axes = plt.subplots(1, 2, figsize=(15, 6))\n",
    "\n",
    "# Gráfico de barras - Conteo por rango\n",
    "rank_counts = df_combined['rank'].value_counts()\n",
    "axes[0].bar(rank_counts.index, rank_counts.values, color=['#FF6B6B', '#4ECDC4', '#45B7D1'])\n",
    "axes[0].set_title('Distribución de Partidas por Rango Competitivo', fontsize=14, fontweight='bold')\n",
    "axes[0].set_xlabel('Rango')\n",
    "axes[0].set_ylabel('Número de Partidas')\n",
    "for i, v in enumerate(rank_counts.values):\n",
    "    axes[0].text(i, v + 1000, f'{v:,}', ha='center', fontweight='bold')\n",
    "\n",
    "# Gráfico de pie - Proporción por rango\n",
    "colors = ['#FF6B6B', '#4ECDC4', '#45B7D1']\n",
    "axes[1].pie(rank_counts.values, labels=rank_counts.index, autopct='%1.1f%%', \n",
    "           colors=colors, startangle=90)\n",
    "axes[1].set_title('Proporción de Partidas por Rango', fontsize=14, fontweight='bold')\n",
    "\n",
    "plt.tight_layout()\n",
    "plt.show()\n",
    "\n",
    "print(\"📊 Distribución de datos por rango:\")\n",
    "for rank in ['Challenger', 'Grandmaster', 'Platinum']:\n",
    "    count = len(df_combined[df_combined['rank'] == rank])\n",
    "    percentage = (count / len(df_combined)) * 100\n",
    "    print(f\"  • {rank}: {count:,} partidas ({percentage:.1f}%)\")\n"
   ]
  },
  {
   "cell_type": "markdown",
   "id": "2fb3235a",
   "metadata": {},
   "source": [
    "### 5. Conclusiones del Análisis Inicial\n",
    "\n",
    "Basado en el análisis exploratorio inicial, identificaremos las próximas áreas de investigación para cumplir con los objetivos del negocio.\n"
   ]
  },
  {
   "cell_type": "code",
   "execution_count": 7,
   "id": "f999d1f4",
   "metadata": {},
   "outputs": [
    {
     "name": "stdout",
     "output_type": "stream",
     "text": [
      "🎯 HALLAZGOS INICIALES - BUSINESS UNDERSTANDING\n",
      "============================================================\n",
      "✅ OBJETIVOS CUMPLIDOS:\n",
      "1. Datos cargados exitosamente de los 3 rangos competitivos\n",
      "2. Estructura de datos explorada y documentada\n",
      "3. Variables potenciales de rendimiento identificadas\n",
      "4. Distribución de datos por rango analizada\n",
      "\n",
      "📊 DATOS DISPONIBLES:\n",
      "  • Total partidas: 239,999\n",
      "  • Variables: 9\n",
      "  • Rangos: 3\n",
      "\n",
      "🔍 PRÓXIMOS PASOS IDENTIFICADOS:\n",
      "1. Análisis profundo de variables de rendimiento por rango\n",
      "2. Comparación estadística entre rangos competitivos\n",
      "3. Identificación de las 3+ variables críticas\n",
      "4. Análisis de correlaciones y patrones\n",
      "\n",
      "💡 VARIABLES CANDIDATAS PARA ANÁLISIS PROFUNDO:\n",
      "  1. gameDuration\n",
      "  2. level\n",
      "  3. lastRound\n",
      "  4. Ranked\n",
      "  5. ingameDuration\n",
      "\n",
      "🚀 LISTO PARA FASE 2: DATA UNDERSTANDING\n",
      "El análisis exploratorio inicial está completo y proporciona\n",
      "la base para el análisis profundo de datos en la siguiente fase.\n"
     ]
    }
   ],
   "source": [
    "# Resumen de hallazgos iniciales\n",
    "print(\"🎯 HALLAZGOS INICIALES - BUSINESS UNDERSTANDING\")\n",
    "print(\"=\" * 60)\n",
    "\n",
    "print(\"✅ OBJETIVOS CUMPLIDOS:\")\n",
    "print(\"1. Datos cargados exitosamente de los 3 rangos competitivos\")\n",
    "print(\"2. Estructura de datos explorada y documentada\")\n",
    "print(\"3. Variables potenciales de rendimiento identificadas\")\n",
    "print(\"4. Distribución de datos por rango analizada\")\n",
    "\n",
    "print(f\"\\n📊 DATOS DISPONIBLES:\")\n",
    "print(f\"  • Total partidas: {len(df_combined):,}\")\n",
    "print(f\"  • Variables: {df_combined.shape[1]}\")\n",
    "print(f\"  • Rangos: {len(df_combined['rank'].unique())}\")\n",
    "\n",
    "print(f\"\\n🔍 PRÓXIMOS PASOS IDENTIFICADOS:\")\n",
    "print(\"1. Análisis profundo de variables de rendimiento por rango\")\n",
    "print(\"2. Comparación estadística entre rangos competitivos\")\n",
    "print(\"3. Identificación de las 3+ variables críticas\")\n",
    "print(\"4. Análisis de correlaciones y patrones\")\n",
    "\n",
    "print(f\"\\n💡 VARIABLES CANDIDATAS PARA ANÁLISIS PROFUNDO:\")\n",
    "if len(potential_performance_vars) > 0:\n",
    "    for i, var in enumerate(potential_performance_vars[:5], 1):  # Top 5\n",
    "        print(f\"  {i}. {var}\")\n",
    "else:\n",
    "    print(\"  • Se requiere análisis más detallado de todas las variables\")\n",
    "\n",
    "print(f\"\\n🚀 LISTO PARA FASE 2: DATA UNDERSTANDING\")\n",
    "print(\"El análisis exploratorio inicial está completo y proporciona\")\n",
    "print(\"la base para el análisis profundo de datos en la siguiente fase.\")\n"
   ]
  }
 ],
 "metadata": {
  "kernelspec": {
   "display_name": ".venv",
   "language": "python",
   "name": "python3"
  },
  "language_info": {
   "codemirror_mode": {
    "name": "ipython",
    "version": 3
   },
   "file_extension": ".py",
   "mimetype": "text/x-python",
   "name": "python",
   "nbconvert_exporter": "python",
   "pygments_lexer": "ipython3",
   "version": "3.12.3"
  }
 },
 "nbformat": 4,
 "nbformat_minor": 5
}
