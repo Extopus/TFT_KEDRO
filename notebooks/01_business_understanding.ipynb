{
 "cells": [
  {
   "cell_type": "markdown",
   "id": "7ba3df8d",
   "metadata": {},
   "source": [
    "## 5. Identificar variables clave para el negocio\n",
    "\n",
    "A continuación se seleccionan y comentan las variables que pueden tener mayor impacto en los objetivos del negocio, como duración de la partida, nivel, ranking y combinaciones de campeones."
   ]
  },
  {
   "cell_type": "code",
   "execution_count": null,
   "id": "8562a0d5",
   "metadata": {},
   "outputs": [],
   "source": [
    "from kedro.framework.context import load_context\n",
    "\n",
    "# Cargar contexto de Kedro (sube un nivel desde notebooks/)\n",
    "context = load_context(\"../\")\n",
    "catalog = context.catalog\n",
    "\n",
    "# Cargar datasets del catálogo\n",
    "df_challenger = catalog.load(\"challenger_raw\")\n",
    "df_platinum = catalog.load(\"platinum_raw\")\n",
    "df_grandmaster = catalog.load(\"grandmaster_raw\")\n"
   ]
  },
  {
   "cell_type": "code",
   "execution_count": null,
   "id": "841dc3c9",
   "metadata": {},
   "outputs": [],
   "source": [
    "for name, df in zip(['Challenger', 'Platinum', 'Grandmaster'], [df_challenger, df_platinum, df_grandmaster]):\n",
    "    print(f'--- {name} ---')\n",
    "    display(df.describe())\n",
    "    if 'Ranked' in df.columns:\n",
    "        print('Ranked value counts:')\n",
    "        print(df['Ranked'].value_counts())\n",
    "    if 'gameDuration' in df.columns:\n",
    "        plt.figure(figsize=(8,4))\n",
    "        sns.histplot(df['gameDuration'], kde=True)\n",
    "        plt.title(f'Distribución de gameDuration - {name}')\n",
    "        plt.show()"
   ]
  },
  {
   "cell_type": "markdown",
   "id": "08ac3b31",
   "metadata": {},
   "source": [
    "## 4. Visualizar estadísticas descriptivas\n",
    "\n",
    "Analizaremos estadísticas básicas y algunas distribuciones de variables relevantes."
   ]
  },
  {
   "cell_type": "code",
   "execution_count": 16,
   "id": "7c0f650e",
   "metadata": {},
   "outputs": [
    {
     "name": "stdout",
     "output_type": "stream",
     "text": [
      "Challenger:\n"
     ]
    },
    {
     "data": {
      "text/html": [
       "<div>\n",
       "<style scoped>\n",
       "    .dataframe tbody tr th:only-of-type {\n",
       "        vertical-align: middle;\n",
       "    }\n",
       "\n",
       "    .dataframe tbody tr th {\n",
       "        vertical-align: top;\n",
       "    }\n",
       "\n",
       "    .dataframe thead th {\n",
       "        text-align: right;\n",
       "    }\n",
       "</style>\n",
       "<table border=\"1\" class=\"dataframe\">\n",
       "  <thead>\n",
       "    <tr style=\"text-align: right;\">\n",
       "      <th></th>\n",
       "      <th>gameId</th>\n",
       "      <th>gameDuration</th>\n",
       "      <th>level</th>\n",
       "      <th>lastRound</th>\n",
       "      <th>Ranked</th>\n",
       "      <th>ingameDuration</th>\n",
       "      <th>combination</th>\n",
       "      <th>champion</th>\n",
       "    </tr>\n",
       "  </thead>\n",
       "  <tbody>\n",
       "    <tr>\n",
       "      <th>0</th>\n",
       "      <td>KR_4247538593</td>\n",
       "      <td>2142.470703</td>\n",
       "      <td>8</td>\n",
       "      <td>35</td>\n",
       "      <td>1</td>\n",
       "      <td>2134.272217</td>\n",
       "      <td>{'DarkStar': 2, 'Protector': 4, 'Rebel': 1, 'S...</td>\n",
       "      <td>{'JarvanIV': {'items': [27], 'star': 3}, 'Sona...</td>\n",
       "    </tr>\n",
       "    <tr>\n",
       "      <th>1</th>\n",
       "      <td>KR_4247538593</td>\n",
       "      <td>2142.470703</td>\n",
       "      <td>9</td>\n",
       "      <td>35</td>\n",
       "      <td>2</td>\n",
       "      <td>2134.272217</td>\n",
       "      <td>{'Blaster': 2, 'Mercenary': 1, 'Rebel': 6, 'Se...</td>\n",
       "      <td>{'Malphite': {'items': [7], 'star': 2}, 'Yasuo...</td>\n",
       "    </tr>\n",
       "    <tr>\n",
       "      <th>2</th>\n",
       "      <td>KR_4247538593</td>\n",
       "      <td>2142.470703</td>\n",
       "      <td>8</td>\n",
       "      <td>34</td>\n",
       "      <td>3</td>\n",
       "      <td>2073.459229</td>\n",
       "      <td>{'Cybernetic': 1, 'DarkStar': 3, 'Demolitionis...</td>\n",
       "      <td>{'KaiSa': {'items': [99, 2, 23], 'star': 2}, '...</td>\n",
       "    </tr>\n",
       "    <tr>\n",
       "      <th>3</th>\n",
       "      <td>KR_4247538593</td>\n",
       "      <td>2142.470703</td>\n",
       "      <td>8</td>\n",
       "      <td>33</td>\n",
       "      <td>4</td>\n",
       "      <td>1998.146729</td>\n",
       "      <td>{'Blaster': 1, 'Cybernetic': 1, 'DarkStar': 1,...</td>\n",
       "      <td>{'KaiSa': {'items': [44, 37], 'star': 2}, 'Ann...</td>\n",
       "    </tr>\n",
       "    <tr>\n",
       "      <th>4</th>\n",
       "      <td>KR_4247538593</td>\n",
       "      <td>2142.470703</td>\n",
       "      <td>9</td>\n",
       "      <td>33</td>\n",
       "      <td>5</td>\n",
       "      <td>1986.443237</td>\n",
       "      <td>{'Blaster': 2, 'Demolitionist': 2, 'Mercenary'...</td>\n",
       "      <td>{'Ziggs': {'items': [], 'star': 1}, 'Yasuo': {...</td>\n",
       "    </tr>\n",
       "  </tbody>\n",
       "</table>\n",
       "</div>"
      ],
      "text/plain": [
       "          gameId  gameDuration  level  lastRound  Ranked  ingameDuration  \\\n",
       "0  KR_4247538593   2142.470703      8         35       1     2134.272217   \n",
       "1  KR_4247538593   2142.470703      9         35       2     2134.272217   \n",
       "2  KR_4247538593   2142.470703      8         34       3     2073.459229   \n",
       "3  KR_4247538593   2142.470703      8         33       4     1998.146729   \n",
       "4  KR_4247538593   2142.470703      9         33       5     1986.443237   \n",
       "\n",
       "                                         combination  \\\n",
       "0  {'DarkStar': 2, 'Protector': 4, 'Rebel': 1, 'S...   \n",
       "1  {'Blaster': 2, 'Mercenary': 1, 'Rebel': 6, 'Se...   \n",
       "2  {'Cybernetic': 1, 'DarkStar': 3, 'Demolitionis...   \n",
       "3  {'Blaster': 1, 'Cybernetic': 1, 'DarkStar': 1,...   \n",
       "4  {'Blaster': 2, 'Demolitionist': 2, 'Mercenary'...   \n",
       "\n",
       "                                            champion  \n",
       "0  {'JarvanIV': {'items': [27], 'star': 3}, 'Sona...  \n",
       "1  {'Malphite': {'items': [7], 'star': 2}, 'Yasuo...  \n",
       "2  {'KaiSa': {'items': [99, 2, 23], 'star': 2}, '...  \n",
       "3  {'KaiSa': {'items': [44, 37], 'star': 2}, 'Ann...  \n",
       "4  {'Ziggs': {'items': [], 'star': 1}, 'Yasuo': {...  "
      ]
     },
     "metadata": {},
     "output_type": "display_data"
    },
    {
     "name": "stdout",
     "output_type": "stream",
     "text": [
      "<class 'pandas.core.frame.DataFrame'>\n",
      "RangeIndex: 79999 entries, 0 to 79998\n",
      "Data columns (total 8 columns):\n",
      " #   Column          Non-Null Count  Dtype  \n",
      "---  ------          --------------  -----  \n",
      " 0   gameId          79999 non-null  object \n",
      " 1   gameDuration    79999 non-null  float64\n",
      " 2   level           79999 non-null  int64  \n",
      " 3   lastRound       79999 non-null  int64  \n",
      " 4   Ranked          79999 non-null  int64  \n",
      " 5   ingameDuration  79999 non-null  float64\n",
      " 6   combination     79999 non-null  object \n",
      " 7   champion        79999 non-null  object \n",
      "dtypes: float64(2), int64(3), object(3)\n",
      "memory usage: 4.9+ MB\n"
     ]
    },
    {
     "data": {
      "text/plain": [
       "None"
      ]
     },
     "metadata": {},
     "output_type": "display_data"
    },
    {
     "name": "stdout",
     "output_type": "stream",
     "text": [
      "Shape: (79999, 8)\n",
      "Platinum:\n"
     ]
    },
    {
     "data": {
      "text/html": [
       "<div>\n",
       "<style scoped>\n",
       "    .dataframe tbody tr th:only-of-type {\n",
       "        vertical-align: middle;\n",
       "    }\n",
       "\n",
       "    .dataframe tbody tr th {\n",
       "        vertical-align: top;\n",
       "    }\n",
       "\n",
       "    .dataframe thead th {\n",
       "        text-align: right;\n",
       "    }\n",
       "</style>\n",
       "<table border=\"1\" class=\"dataframe\">\n",
       "  <thead>\n",
       "    <tr style=\"text-align: right;\">\n",
       "      <th></th>\n",
       "      <th>gameId</th>\n",
       "      <th>gameDuration</th>\n",
       "      <th>level</th>\n",
       "      <th>lastRound</th>\n",
       "      <th>Ranked</th>\n",
       "      <th>ingameDuration</th>\n",
       "      <th>combination</th>\n",
       "      <th>champion</th>\n",
       "    </tr>\n",
       "  </thead>\n",
       "  <tbody>\n",
       "    <tr>\n",
       "      <th>0</th>\n",
       "      <td>KR_4291707834</td>\n",
       "      <td>1963.905273</td>\n",
       "      <td>6</td>\n",
       "      <td>27</td>\n",
       "      <td>5</td>\n",
       "      <td>1390.165771</td>\n",
       "      <td>{'Cybernetic': 1, 'Demolitionist': 1, 'Infiltr...</td>\n",
       "      <td>{'Ziggs': {'items': [7], 'star': 1}, 'Ashe': {...</td>\n",
       "    </tr>\n",
       "    <tr>\n",
       "      <th>1</th>\n",
       "      <td>KR_4291707834</td>\n",
       "      <td>1963.905273</td>\n",
       "      <td>8</td>\n",
       "      <td>37</td>\n",
       "      <td>3</td>\n",
       "      <td>1891.282715</td>\n",
       "      <td>{'Blaster': 1, 'Chrono': 1, 'Cybernetic': 4, '...</td>\n",
       "      <td>{'Ziggs': {'items': [24], 'star': 3}, 'Fiora':...</td>\n",
       "    </tr>\n",
       "    <tr>\n",
       "      <th>2</th>\n",
       "      <td>KR_4291707834</td>\n",
       "      <td>1963.905273</td>\n",
       "      <td>6</td>\n",
       "      <td>25</td>\n",
       "      <td>7</td>\n",
       "      <td>1279.461060</td>\n",
       "      <td>{'Blaster': 1, 'Cybernetic': 1, 'DarkStar': 2,...</td>\n",
       "      <td>{'Fiora': {'items': [1], 'star': 1}, 'Shaco': ...</td>\n",
       "    </tr>\n",
       "    <tr>\n",
       "      <th>3</th>\n",
       "      <td>KR_4291707834</td>\n",
       "      <td>1963.905273</td>\n",
       "      <td>7</td>\n",
       "      <td>38</td>\n",
       "      <td>2</td>\n",
       "      <td>1955.608521</td>\n",
       "      <td>{'DarkStar': 1, 'Protector': 2, 'Set3_Blademas...</td>\n",
       "      <td>{'Poppy': {'items': [], 'star': 2}, 'Xayah': {...</td>\n",
       "    </tr>\n",
       "    <tr>\n",
       "      <th>4</th>\n",
       "      <td>KR_4291707834</td>\n",
       "      <td>1963.905273</td>\n",
       "      <td>8</td>\n",
       "      <td>38</td>\n",
       "      <td>1</td>\n",
       "      <td>1955.608521</td>\n",
       "      <td>{'Blaster': 1, 'Chrono': 5, 'DarkStar': 3, 'Pr...</td>\n",
       "      <td>{'TwistedFate': {'items': [36, 27], 'star': 3}...</td>\n",
       "    </tr>\n",
       "  </tbody>\n",
       "</table>\n",
       "</div>"
      ],
      "text/plain": [
       "          gameId  gameDuration  level  lastRound  Ranked  ingameDuration  \\\n",
       "0  KR_4291707834   1963.905273      6         27       5     1390.165771   \n",
       "1  KR_4291707834   1963.905273      8         37       3     1891.282715   \n",
       "2  KR_4291707834   1963.905273      6         25       7     1279.461060   \n",
       "3  KR_4291707834   1963.905273      7         38       2     1955.608521   \n",
       "4  KR_4291707834   1963.905273      8         38       1     1955.608521   \n",
       "\n",
       "                                         combination  \\\n",
       "0  {'Cybernetic': 1, 'Demolitionist': 1, 'Infiltr...   \n",
       "1  {'Blaster': 1, 'Chrono': 1, 'Cybernetic': 4, '...   \n",
       "2  {'Blaster': 1, 'Cybernetic': 1, 'DarkStar': 2,...   \n",
       "3  {'DarkStar': 1, 'Protector': 2, 'Set3_Blademas...   \n",
       "4  {'Blaster': 1, 'Chrono': 5, 'DarkStar': 3, 'Pr...   \n",
       "\n",
       "                                            champion  \n",
       "0  {'Ziggs': {'items': [7], 'star': 1}, 'Ashe': {...  \n",
       "1  {'Ziggs': {'items': [24], 'star': 3}, 'Fiora':...  \n",
       "2  {'Fiora': {'items': [1], 'star': 1}, 'Shaco': ...  \n",
       "3  {'Poppy': {'items': [], 'star': 2}, 'Xayah': {...  \n",
       "4  {'TwistedFate': {'items': [36, 27], 'star': 3}...  "
      ]
     },
     "metadata": {},
     "output_type": "display_data"
    },
    {
     "name": "stdout",
     "output_type": "stream",
     "text": [
      "<class 'pandas.core.frame.DataFrame'>\n",
      "RangeIndex: 80000 entries, 0 to 79999\n",
      "Data columns (total 8 columns):\n",
      " #   Column          Non-Null Count  Dtype  \n",
      "---  ------          --------------  -----  \n",
      " 0   gameId          80000 non-null  object \n",
      " 1   gameDuration    80000 non-null  float64\n",
      " 2   level           80000 non-null  int64  \n",
      " 3   lastRound       80000 non-null  int64  \n",
      " 4   Ranked          80000 non-null  int64  \n",
      " 5   ingameDuration  80000 non-null  float64\n",
      " 6   combination     80000 non-null  object \n",
      " 7   champion        80000 non-null  object \n",
      "dtypes: float64(2), int64(3), object(3)\n",
      "memory usage: 4.9+ MB\n"
     ]
    },
    {
     "data": {
      "text/plain": [
       "None"
      ]
     },
     "metadata": {},
     "output_type": "display_data"
    },
    {
     "name": "stdout",
     "output_type": "stream",
     "text": [
      "Shape: (80000, 8)\n",
      "Grandmaster:\n"
     ]
    },
    {
     "data": {
      "text/html": [
       "<div>\n",
       "<style scoped>\n",
       "    .dataframe tbody tr th:only-of-type {\n",
       "        vertical-align: middle;\n",
       "    }\n",
       "\n",
       "    .dataframe tbody tr th {\n",
       "        vertical-align: top;\n",
       "    }\n",
       "\n",
       "    .dataframe thead th {\n",
       "        text-align: right;\n",
       "    }\n",
       "</style>\n",
       "<table border=\"1\" class=\"dataframe\">\n",
       "  <thead>\n",
       "    <tr style=\"text-align: right;\">\n",
       "      <th></th>\n",
       "      <th>gameId</th>\n",
       "      <th>gameDuration</th>\n",
       "      <th>level</th>\n",
       "      <th>lastRound</th>\n",
       "      <th>Ranked</th>\n",
       "      <th>ingameDuration</th>\n",
       "      <th>combination</th>\n",
       "      <th>champion</th>\n",
       "    </tr>\n",
       "  </thead>\n",
       "  <tbody>\n",
       "    <tr>\n",
       "      <th>0</th>\n",
       "      <td>KR_4254769102</td>\n",
       "      <td>2319.661377</td>\n",
       "      <td>9</td>\n",
       "      <td>38</td>\n",
       "      <td>1</td>\n",
       "      <td>2311.472168</td>\n",
       "      <td>{'Blaster': 4, 'Chrono': 2, 'Cybernetic': 2, '...</td>\n",
       "      <td>{'Malphite': {'items': [], 'star': 2}, 'Blitzc...</td>\n",
       "    </tr>\n",
       "    <tr>\n",
       "      <th>1</th>\n",
       "      <td>KR_4254769102</td>\n",
       "      <td>2319.661377</td>\n",
       "      <td>9</td>\n",
       "      <td>38</td>\n",
       "      <td>2</td>\n",
       "      <td>2311.472168</td>\n",
       "      <td>{'Blaster': 2, 'Chrono': 2, 'Cybernetic': 6, '...</td>\n",
       "      <td>{'Fiora': {'items': [], 'star': 2}, 'Leona': {...</td>\n",
       "    </tr>\n",
       "    <tr>\n",
       "      <th>2</th>\n",
       "      <td>KR_4254769102</td>\n",
       "      <td>2319.661377</td>\n",
       "      <td>9</td>\n",
       "      <td>37</td>\n",
       "      <td>3</td>\n",
       "      <td>2247.994873</td>\n",
       "      <td>{'DarkStar': 2, 'Protector': 4, 'Rebel': 1, 'S...</td>\n",
       "      <td>{'JarvanIV': {'items': [], 'star': 3}, 'Sona':...</td>\n",
       "    </tr>\n",
       "    <tr>\n",
       "      <th>3</th>\n",
       "      <td>KR_4254769102</td>\n",
       "      <td>2319.661377</td>\n",
       "      <td>7</td>\n",
       "      <td>33</td>\n",
       "      <td>4</td>\n",
       "      <td>1996.358643</td>\n",
       "      <td>{'DarkStar': 2, 'Demolitionist': 1, 'Infiltrat...</td>\n",
       "      <td>{'KhaZix': {'items': [], 'star': 2}, 'KaiSa': ...</td>\n",
       "    </tr>\n",
       "    <tr>\n",
       "      <th>4</th>\n",
       "      <td>KR_4254769102</td>\n",
       "      <td>2319.661377</td>\n",
       "      <td>8</td>\n",
       "      <td>31</td>\n",
       "      <td>5</td>\n",
       "      <td>1871.789551</td>\n",
       "      <td>{'Chrono': 1, 'Cybernetic': 1, 'DarkStar': 3, ...</td>\n",
       "      <td>{'Leona': {'items': [], 'star': 1}, 'Mordekais...</td>\n",
       "    </tr>\n",
       "  </tbody>\n",
       "</table>\n",
       "</div>"
      ],
      "text/plain": [
       "          gameId  gameDuration  level  lastRound  Ranked  ingameDuration  \\\n",
       "0  KR_4254769102   2319.661377      9         38       1     2311.472168   \n",
       "1  KR_4254769102   2319.661377      9         38       2     2311.472168   \n",
       "2  KR_4254769102   2319.661377      9         37       3     2247.994873   \n",
       "3  KR_4254769102   2319.661377      7         33       4     1996.358643   \n",
       "4  KR_4254769102   2319.661377      8         31       5     1871.789551   \n",
       "\n",
       "                                         combination  \\\n",
       "0  {'Blaster': 4, 'Chrono': 2, 'Cybernetic': 2, '...   \n",
       "1  {'Blaster': 2, 'Chrono': 2, 'Cybernetic': 6, '...   \n",
       "2  {'DarkStar': 2, 'Protector': 4, 'Rebel': 1, 'S...   \n",
       "3  {'DarkStar': 2, 'Demolitionist': 1, 'Infiltrat...   \n",
       "4  {'Chrono': 1, 'Cybernetic': 1, 'DarkStar': 3, ...   \n",
       "\n",
       "                                            champion  \n",
       "0  {'Malphite': {'items': [], 'star': 2}, 'Blitzc...  \n",
       "1  {'Fiora': {'items': [], 'star': 2}, 'Leona': {...  \n",
       "2  {'JarvanIV': {'items': [], 'star': 3}, 'Sona':...  \n",
       "3  {'KhaZix': {'items': [], 'star': 2}, 'KaiSa': ...  \n",
       "4  {'Leona': {'items': [], 'star': 1}, 'Mordekais...  "
      ]
     },
     "metadata": {},
     "output_type": "display_data"
    },
    {
     "name": "stdout",
     "output_type": "stream",
     "text": [
      "<class 'pandas.core.frame.DataFrame'>\n",
      "RangeIndex: 80000 entries, 0 to 79999\n",
      "Data columns (total 8 columns):\n",
      " #   Column          Non-Null Count  Dtype  \n",
      "---  ------          --------------  -----  \n",
      " 0   gameId          80000 non-null  object \n",
      " 1   gameDuration    80000 non-null  float64\n",
      " 2   level           80000 non-null  int64  \n",
      " 3   lastRound       80000 non-null  int64  \n",
      " 4   Ranked          80000 non-null  int64  \n",
      " 5   ingameDuration  80000 non-null  float64\n",
      " 6   combination     80000 non-null  object \n",
      " 7   champion        80000 non-null  object \n",
      "dtypes: float64(2), int64(3), object(3)\n",
      "memory usage: 4.9+ MB\n"
     ]
    },
    {
     "data": {
      "text/plain": [
       "None"
      ]
     },
     "metadata": {},
     "output_type": "display_data"
    },
    {
     "name": "stdout",
     "output_type": "stream",
     "text": [
      "Shape: (80000, 8)\n"
     ]
    }
   ],
   "source": [
    "print('Challenger:')\n",
    "display(df_challenger.head())\n",
    "display(df_challenger.info())\n",
    "print('Shape:', df_challenger.shape)\n",
    "\n",
    "print('Platinum:')\n",
    "display(df_platinum.head())\n",
    "display(df_platinum.info())\n",
    "print('Shape:', df_platinum.shape)\n",
    "\n",
    "print('Grandmaster:')\n",
    "display(df_grandmaster.head())\n",
    "display(df_grandmaster.info())\n",
    "print('Shape:', df_grandmaster.shape)"
   ]
  },
  {
   "cell_type": "markdown",
   "id": "81ef2967",
   "metadata": {},
   "source": [
    "## 3. Explorar estructura de los datos\n",
    "\n",
    "Revisaremos las primeras filas, tipos de datos y dimensiones de cada dataset."
   ]
  },
  {
   "cell_type": "code",
   "execution_count": 15,
   "id": "82ab145d",
   "metadata": {},
   "outputs": [],
   "source": [
    "df_challenger = pd.read_csv('./data/01_raw/TFT_Challenger_MatchData.csv')\n",
    "df_platinum = pd.read_csv('./data/01_raw/TFT_Platinum_MatchData.csv')\n",
    "df_grandmaster = pd.read_csv('./data/01_raw/TFT_Grandmaster_MatchData.csv')"
   ]
  },
  {
   "cell_type": "markdown",
   "id": "5c18c1db",
   "metadata": {},
   "source": [
    "## 2. Cargar datos iniciales\n",
    "\n",
    "Cargaremos los tres archivos CSV principales del proyecto para comenzar la exploración."
   ]
  },
  {
   "cell_type": "code",
   "execution_count": 10,
   "id": "75dc925b",
   "metadata": {},
   "outputs": [],
   "source": [
    "import pandas as pd\n",
    "import numpy as np\n",
    "import matplotlib.pyplot as plt\n",
    "import seaborn as sns"
   ]
  },
  {
   "cell_type": "markdown",
   "id": "1b4840bb",
   "metadata": {},
   "source": [
    "## 1. Importar librerías necesarias\n",
    "\n",
    "Importaremos las librerías principales para el análisis exploratorio de datos."
   ]
  },
  {
   "cell_type": "markdown",
   "id": "5803ad9a",
   "metadata": {},
   "source": [
    "# Comprensión del Negocio\n",
    "\n",
    "Este notebook tiene como objetivo entender el contexto y los datos del proyecto TFT, comenzando por la exploración inicial de los archivos CSV disponibles."
   ]
  }
 ],
 "metadata": {
  "kernelspec": {
   "display_name": "Python 3 (ipykernel)",
   "language": "python",
   "name": "python3"
  },
  "language_info": {
   "codemirror_mode": {
    "name": "ipython",
    "version": 3
   },
   "file_extension": ".py",
   "mimetype": "text/x-python",
   "name": "python",
   "nbconvert_exporter": "python",
   "pygments_lexer": "ipython3",
   "version": "3.11.9"
  }
 },
 "nbformat": 4,
 "nbformat_minor": 5
}
