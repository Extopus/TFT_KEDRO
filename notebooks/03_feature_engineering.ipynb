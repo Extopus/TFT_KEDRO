{
 "cells": [
  {
   "cell_type": "code",
   "execution_count": null,
   "id": "51f867da",
   "metadata": {},
   "outputs": [],
   "source": [
    "df_challenger_feat.to_csv('../data/04_feature/TFT_Challenger_MatchData_features.csv', index=False)\n",
    "df_platinum_feat.to_csv('../data/04_feature/TFT_Platinum_MatchData_features.csv', index=False)\n",
    "df_grandmaster_feat.to_csv('../data/04_feature/TFT_Grandmaster_MatchData_features.csv', index=False)"
   ]
  },
  {
   "cell_type": "markdown",
   "id": "cd838ba5",
   "metadata": {},
   "source": [
    "## 3. Guardar los datos con features\n",
    "\n",
    "Exportaremos los datasets con nuevas variables a la carpeta `04_feature`."
   ]
  },
  {
   "cell_type": "code",
   "execution_count": null,
   "id": "04791853",
   "metadata": {},
   "outputs": [],
   "source": [
    "# Ejemplo: crear una variable de duración en minutos\n",
    "def add_features(df):\n",
    "    df['gameDuration_min'] = df['gameDuration'] / 60\n",
    "    # Puedes agregar más transformaciones aquí\n",
    "    return df\n",
    "\n",
    "df_challenger_feat = add_features(df_challenger)\n",
    "df_platinum_feat = add_features(df_platinum)\n",
    "df_grandmaster_feat = add_features(df_grandmaster)"
   ]
  },
  {
   "cell_type": "markdown",
   "id": "75c8480c",
   "metadata": {},
   "source": [
    "## 2. Creación de variables\n",
    "\n",
    "Ejemplo: crear variables agregadas, transformar columnas, extraer información relevante para el modelado."
   ]
  },
  {
   "cell_type": "code",
   "execution_count": null,
   "id": "6fdd2bee",
   "metadata": {},
   "outputs": [],
   "source": [
    "df_challenger = pd.read_csv('../data/02_intermediate/TFT_Challenger_MatchData_cleaned.csv')\n",
    "df_platinum = pd.read_csv('../data/02_intermediate/TFT_Platinum_MatchData_cleaned.csv')\n",
    "df_grandmaster = pd.read_csv('../data/02_intermediate/TFT_Grandmaster_MatchData_cleaned.csv')"
   ]
  },
  {
   "cell_type": "markdown",
   "id": "118c71a0",
   "metadata": {},
   "source": [
    "## 1. Cargar datos limpios\n",
    "\n",
    "Cargaremos los archivos CSV limpios generados en el paso anterior."
   ]
  },
  {
   "cell_type": "code",
   "execution_count": null,
   "id": "d6aeab01",
   "metadata": {},
   "outputs": [],
   "source": [
    "import pandas as pd\n",
    "import numpy as np"
   ]
  },
  {
   "cell_type": "markdown",
   "id": "6e796abd",
   "metadata": {},
   "source": [
    "# Feature Engineering\n",
    "\n",
    "Este notebook está dedicado a la creación y transformación de variables (features) para el modelado de datos de Teamfight Tactics (TFT)."
   ]
  }
 ],
 "metadata": {
  "language_info": {
   "name": "python"
  }
 },
 "nbformat": 4,
 "nbformat_minor": 5
}
