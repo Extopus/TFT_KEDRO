{
 "cells": [
  {
   "cell_type": "code",
   "execution_count": 8,
   "id": "047c37e1",
   "metadata": {},
   "outputs": [],
   "source": [
    "df_challenger_clean.to_csv('./data/02_intermediate/TFT_Challenger_MatchData_cleaned.csv', index=False)\n",
    "df_platinum_clean.to_csv('./data/02_intermediate/TFT_Platinum_MatchData_cleaned.csv', index=False)\n",
    "df_grandmaster_clean.to_csv('./data/02_intermediate/TFT_Grandmaster_MatchData_cleaned.csv', index=False)"
   ]
  },
  {
   "cell_type": "markdown",
   "id": "7cc1cd42",
   "metadata": {},
   "source": [
    "## 3. Guardar los datos limpios\n",
    "\n",
    "Exportaremos los datasets limpios a la carpeta `02_intermediate` para su uso posterior."
   ]
  },
  {
   "cell_type": "code",
   "execution_count": 6,
   "id": "8c6534f9",
   "metadata": {},
   "outputs": [],
   "source": [
    "def clean_df(df):\n",
    "    df = df.dropna()\n",
    "    df = df.drop_duplicates()\n",
    "    df = df.reset_index(drop=True)\n",
    "    return df\n",
    "\n",
    "df_challenger_clean = clean_df(df_challenger)\n",
    "df_platinum_clean = clean_df(df_platinum)\n",
    "df_grandmaster_clean = clean_df(df_grandmaster)"
   ]
  },
  {
   "cell_type": "markdown",
   "id": "2a18f6a7",
   "metadata": {},
   "source": [
    "## 2. Limpieza básica\n",
    "\n",
    "Eliminaremos valores nulos y duplicados de cada dataset."
   ]
  },
  {
   "cell_type": "code",
   "execution_count": 4,
   "id": "a10b6adb",
   "metadata": {},
   "outputs": [],
   "source": [
    "df_challenger = pd.read_csv('./data/01_raw/TFT_Challenger_MatchData.csv')\n",
    "df_platinum = pd.read_csv('./data/01_raw/TFT_Platinum_MatchData.csv')\n",
    "df_grandmaster = pd.read_csv('./data/01_raw/TFT_Grandmaster_MatchData.csv')"
   ]
  },
  {
   "cell_type": "markdown",
   "id": "a4f6cd54",
   "metadata": {},
   "source": [
    "## 1. Cargar los datos\n",
    "\n",
    "Cargaremos los archivos CSV crudos para iniciar la limpieza."
   ]
  },
  {
   "cell_type": "code",
   "execution_count": 2,
   "id": "b3d41253",
   "metadata": {},
   "outputs": [],
   "source": [
    "import pandas as pd\n",
    "import numpy as np"
   ]
  },
  {
   "cell_type": "markdown",
   "id": "58d8d5a6",
   "metadata": {},
   "source": [
    "# Limpieza de Datos\n",
    "\n",
    "Este notebook está dedicado a la limpieza básica de los datos de Teamfight Tactics (TFT) para su posterior análisis y modelado."
   ]
  }
 ],
 "metadata": {
  "kernelspec": {
   "display_name": "Kedro (tft_kedro)",
   "language": "python",
   "name": "kedro_tft_kedro"
  },
  "language_info": {
   "codemirror_mode": {
    "name": "ipython",
    "version": 3
   },
   "file_extension": ".py",
   "mimetype": "text/x-python",
   "name": "python",
   "nbconvert_exporter": "python",
   "pygments_lexer": "ipython3",
   "version": "3.11.9"
  }
 },
 "nbformat": 4,
 "nbformat_minor": 5
}
